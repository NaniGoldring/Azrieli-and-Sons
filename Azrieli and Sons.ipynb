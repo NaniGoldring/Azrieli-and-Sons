{
 "cells": [
  {
   "cell_type": "markdown",
   "metadata": {},
   "source": [
    "# התחלת תרגיל"
   ]
  },
  {
   "cell_type": "code",
   "execution_count": 1,
   "metadata": {},
   "outputs": [],
   "source": [
    "import pandas as pd\n",
    "import numpy as np\n",
    "import matplotlib.pyplot as plt\n",
    "import datetime"
   ]
  },
  {
   "cell_type": "code",
   "execution_count": 2,
   "metadata": {},
   "outputs": [],
   "source": [
    "kviutdrivers = pd.read_csv('https://raw.githubusercontent.com/meitalbensinai/AlgoTrainingNoSol/master/Basic/Azrieli%20and%20Sons/data/Drivers_with_kviut.csv')"
   ]
  },
  {
   "cell_type": "code",
   "execution_count": 3,
   "metadata": {},
   "outputs": [],
   "source": [
    "newDrivers = pd.read_csv('https://raw.githubusercontent.com/meitalbensinai/AlgoTrainingNoSol/master/Basic/Azrieli%20and%20Sons/data/new_drivers.csv')"
   ]
  },
  {
   "cell_type": "markdown",
   "metadata": {},
   "source": [
    "לאחד את הטבלאות של הנהגים"
   ]
  },
  {
   "cell_type": "code",
   "execution_count": 4,
   "metadata": {},
   "outputs": [],
   "source": [
    "drivers = kviutdrivers.append(newDrivers)"
   ]
  },
  {
   "cell_type": "code",
   "execution_count": 5,
   "metadata": {},
   "outputs": [],
   "source": [
    "drivers.set_index('id' ,inplace= True)"
   ]
  },
  {
   "cell_type": "markdown",
   "metadata": {},
   "source": [
    "להוריד שורה מיותרת"
   ]
  },
  {
   "cell_type": "code",
   "execution_count": 6,
   "metadata": {},
   "outputs": [],
   "source": [
    "drivers.drop('Unnamed: 0', inplace = True, axis = 1)"
   ]
  },
  {
   "cell_type": "code",
   "execution_count": 7,
   "metadata": {},
   "outputs": [],
   "source": [
    "drivers.sort_values('id', inplace = True)"
   ]
  },
  {
   "cell_type": "markdown",
   "metadata": {},
   "source": [
    "לנקות מין"
   ]
  },
  {
   "cell_type": "code",
   "execution_count": 8,
   "metadata": {},
   "outputs": [],
   "source": [
    "drivers['gender'] = np.where(drivers['gender'].isin(['M','m','boy','male']),'m',np.where(drivers['gender'].isin(['F','f','female','woman','girl']),'f','unknown'))"
   ]
  },
  {
   "cell_type": "code",
   "execution_count": 9,
   "metadata": {},
   "outputs": [
    {
     "data": {
      "text/plain": [
       "array(['f', 'm', 'unknown'], dtype=object)"
      ]
     },
     "execution_count": 9,
     "metadata": {},
     "output_type": "execute_result"
    }
   ],
   "source": [
    "drivers.gender.unique()"
   ]
  },
  {
   "cell_type": "markdown",
   "metadata": {},
   "source": [
    "להפוך תאריכי לידה לתאריך"
   ]
  },
  {
   "cell_type": "code",
   "execution_count": 10,
   "metadata": {},
   "outputs": [],
   "source": [
    "drivers.birthdate =  pd.to_datetime(drivers.birthdate)"
   ]
  },
  {
   "cell_type": "markdown",
   "metadata": {},
   "source": [
    "למלא ערכים חסרים של הגיל (ע\"פ הותק)"
   ]
  },
  {
   "cell_type": "code",
   "execution_count": 11,
   "metadata": {},
   "outputs": [],
   "source": [
    "vmean = drivers.vetek.mean()"
   ]
  },
  {
   "cell_type": "code",
   "execution_count": 12,
   "metadata": {},
   "outputs": [],
   "source": [
    "bmean = drivers.birthdate.mean()"
   ]
  },
  {
   "cell_type": "code",
   "execution_count": 13,
   "metadata": {},
   "outputs": [],
   "source": [
    "birthmean = bmean.year + bmean.month/12"
   ]
  },
  {
   "cell_type": "code",
   "execution_count": 14,
   "metadata": {},
   "outputs": [],
   "source": [
    "agePerVetek = ((datetime.datetime.now().year-bmean.year)+(datetime.datetime.now().month-bmean.month)/12)/vmean"
   ]
  },
  {
   "cell_type": "code",
   "execution_count": 15,
   "metadata": {},
   "outputs": [],
   "source": [
    "def getY(x):\n",
    "    return np.floor(x.days/36.5)/10"
   ]
  },
  {
   "cell_type": "code",
   "execution_count": 16,
   "metadata": {},
   "outputs": [
    {
     "name": "stderr",
     "output_type": "stream",
     "text": [
      "C:\\Users\\user\\Anaconda3\\lib\\site-packages\\ipykernel_launcher.py:3: SettingWithCopyWarning: \n",
      "A value is trying to be set on a copy of a slice from a DataFrame\n",
      "\n",
      "See the caveats in the documentation: http://pandas.pydata.org/pandas-docs/stable/user_guide/indexing.html#returning-a-view-versus-a-copy\n",
      "  This is separate from the ipykernel package so we can avoid doing imports until\n"
     ]
    }
   ],
   "source": [
    "drivers['age'] = (datetime.datetime.now() - drivers.birthdate)\n",
    "drivers.age = drivers.age[drivers.age.notna()].apply(getY)\n",
    "drivers.age[drivers.age.isna()] = drivers.vetek[drivers.age.isna()]*agePerVetek\n",
    "drivers.drop('birthdate', axis = 1, inplace = True)"
   ]
  },
  {
   "cell_type": "markdown",
   "metadata": {},
   "source": [
    "להחליף את השם של החברות"
   ]
  },
  {
   "cell_type": "code",
   "execution_count": 17,
   "metadata": {},
   "outputs": [],
   "source": [
    "gvia = pd.read_csv('https://raw.githubusercontent.com/meitalbensinai/AlgoTrainingNoSol/master/Basic/Azrieli%20and%20Sons/data/taarif.csv')"
   ]
  },
  {
   "cell_type": "code",
   "execution_count": 18,
   "metadata": {},
   "outputs": [],
   "source": [
    "gvia.iloc[[3,4,7],0] = ['aminach','yes','hot']"
   ]
  },
  {
   "cell_type": "code",
   "execution_count": 19,
   "metadata": {},
   "outputs": [],
   "source": [
    "gvia.dropna(how='all', inplace = True)"
   ]
  },
  {
   "cell_type": "markdown",
   "metadata": {},
   "source": [
    "למלאות את הערכים החסרים"
   ]
  },
  {
   "cell_type": "code",
   "execution_count": 20,
   "metadata": {},
   "outputs": [],
   "source": [
    "gvia.basic_taarif.fillna(gvia.basic_taarif.mean(), inplace = True)"
   ]
  },
  {
   "cell_type": "markdown",
   "metadata": {},
   "source": [
    " למלא את התעריף האקסטרה ע\"י החישוב ממוצע פי כמה גדול תעריף האקסטרה כפול התעריף הרגיל של החברה"
   ]
  },
  {
   "cell_type": "code",
   "execution_count": 21,
   "metadata": {},
   "outputs": [],
   "source": [
    "gvia.extra_milage.fillna(gvia.extra_milage.mean()/gvia.basic_taarif.mean()*gvia.basic_taarif, inplace = True)"
   ]
  },
  {
   "cell_type": "markdown",
   "metadata": {},
   "source": [
    " ללילה ולסופ\"ש לקחתי את החציון כי ישנם ערכים גדולים משמעותית והממוצע לא יגיד הרבה"
   ]
  },
  {
   "cell_type": "code",
   "execution_count": 22,
   "metadata": {},
   "outputs": [
    {
     "data": {
      "text/html": [
       "<div>\n",
       "<style scoped>\n",
       "    .dataframe tbody tr th:only-of-type {\n",
       "        vertical-align: middle;\n",
       "    }\n",
       "\n",
       "    .dataframe tbody tr th {\n",
       "        vertical-align: top;\n",
       "    }\n",
       "\n",
       "    .dataframe thead th {\n",
       "        text-align: right;\n",
       "    }\n",
       "</style>\n",
       "<table border=\"1\" class=\"dataframe\">\n",
       "  <thead>\n",
       "    <tr style=\"text-align: right;\">\n",
       "      <th></th>\n",
       "      <th>customer</th>\n",
       "      <th>basic_taarif</th>\n",
       "      <th>extra_milage</th>\n",
       "      <th>night_bonus</th>\n",
       "      <th>weekend_bonus</th>\n",
       "    </tr>\n",
       "  </thead>\n",
       "  <tbody>\n",
       "    <tr>\n",
       "      <td>1</td>\n",
       "      <td>jerusalem_muni</td>\n",
       "      <td>8.000000</td>\n",
       "      <td>40.000000</td>\n",
       "      <td>50.0</td>\n",
       "      <td>30.0</td>\n",
       "    </tr>\n",
       "    <tr>\n",
       "      <td>2</td>\n",
       "      <td>intel</td>\n",
       "      <td>8.000000</td>\n",
       "      <td>6.000000</td>\n",
       "      <td>20.0</td>\n",
       "      <td>0.0</td>\n",
       "    </tr>\n",
       "    <tr>\n",
       "      <td>3</td>\n",
       "      <td>aminach</td>\n",
       "      <td>15.000000</td>\n",
       "      <td>4.000000</td>\n",
       "      <td>0.0</td>\n",
       "      <td>25.0</td>\n",
       "    </tr>\n",
       "    <tr>\n",
       "      <td>4</td>\n",
       "      <td>yes</td>\n",
       "      <td>10.000000</td>\n",
       "      <td>8.000000</td>\n",
       "      <td>0.0</td>\n",
       "      <td>25.0</td>\n",
       "    </tr>\n",
       "    <tr>\n",
       "      <td>5</td>\n",
       "      <td>tnuva</td>\n",
       "      <td>6.000000</td>\n",
       "      <td>3.000000</td>\n",
       "      <td>80.0</td>\n",
       "      <td>0.0</td>\n",
       "    </tr>\n",
       "    <tr>\n",
       "      <td>6</td>\n",
       "      <td>angel</td>\n",
       "      <td>1.000000</td>\n",
       "      <td>5.000000</td>\n",
       "      <td>100.0</td>\n",
       "      <td>0.0</td>\n",
       "    </tr>\n",
       "    <tr>\n",
       "      <td>7</td>\n",
       "      <td>hot</td>\n",
       "      <td>7.000000</td>\n",
       "      <td>7.000000</td>\n",
       "      <td>10.0</td>\n",
       "      <td>40.0</td>\n",
       "    </tr>\n",
       "    <tr>\n",
       "      <td>8</td>\n",
       "      <td>osem</td>\n",
       "      <td>12.000000</td>\n",
       "      <td>4.000000</td>\n",
       "      <td>20.0</td>\n",
       "      <td>0.0</td>\n",
       "    </tr>\n",
       "    <tr>\n",
       "      <td>9</td>\n",
       "      <td>iaf</td>\n",
       "      <td>20.000000</td>\n",
       "      <td>10.000000</td>\n",
       "      <td>200.0</td>\n",
       "      <td>500.0</td>\n",
       "    </tr>\n",
       "    <tr>\n",
       "      <td>10</td>\n",
       "      <td>tara</td>\n",
       "      <td>6.000000</td>\n",
       "      <td>6.000000</td>\n",
       "      <td>50.0</td>\n",
       "      <td>30.0</td>\n",
       "    </tr>\n",
       "    <tr>\n",
       "      <td>11</td>\n",
       "      <td>electricity</td>\n",
       "      <td>10.000000</td>\n",
       "      <td>9.932039</td>\n",
       "      <td>40.0</td>\n",
       "      <td>70000.0</td>\n",
       "    </tr>\n",
       "    <tr>\n",
       "      <td>12</td>\n",
       "      <td>bituch_leumi</td>\n",
       "      <td>9.363636</td>\n",
       "      <td>9.300000</td>\n",
       "      <td>40.0</td>\n",
       "      <td>25.0</td>\n",
       "    </tr>\n",
       "  </tbody>\n",
       "</table>\n",
       "</div>"
      ],
      "text/plain": [
       "          customer  basic_taarif  extra_milage  night_bonus  weekend_bonus\n",
       "1   jerusalem_muni      8.000000     40.000000         50.0           30.0\n",
       "2            intel      8.000000      6.000000         20.0            0.0\n",
       "3          aminach     15.000000      4.000000          0.0           25.0\n",
       "4              yes     10.000000      8.000000          0.0           25.0\n",
       "5            tnuva      6.000000      3.000000         80.0            0.0\n",
       "6            angel      1.000000      5.000000        100.0            0.0\n",
       "7              hot      7.000000      7.000000         10.0           40.0\n",
       "8             osem     12.000000      4.000000         20.0            0.0\n",
       "9              iaf     20.000000     10.000000        200.0          500.0\n",
       "10            tara      6.000000      6.000000         50.0           30.0\n",
       "11     electricity     10.000000      9.932039         40.0        70000.0\n",
       "12    bituch_leumi      9.363636      9.300000         40.0           25.0"
      ]
     },
     "execution_count": 22,
     "metadata": {},
     "output_type": "execute_result"
    }
   ],
   "source": [
    "gvia.night_bonus.fillna(gvia.night_bonus.median(), inplace = True)\n",
    "gvia.weekend_bonus.fillna(gvia.weekend_bonus.median(), inplace = True)\n",
    "gvia"
   ]
  },
  {
   "cell_type": "markdown",
   "metadata": {},
   "source": [
    "לנקות את זמני הסיום של הנהג"
   ]
  },
  {
   "cell_type": "code",
   "execution_count": null,
   "metadata": {},
   "outputs": [],
   "source": []
  },
  {
   "cell_type": "code",
   "execution_count": 23,
   "metadata": {},
   "outputs": [],
   "source": [
    "month = ['january', 'february', 'march', 'april', 'may', 'june', 'july', 'august', 'september', 'october', 'november', 'december']"
   ]
  },
  {
   "cell_type": "code",
   "execution_count": 24,
   "metadata": {},
   "outputs": [],
   "source": [
    "summ = drivers"
   ]
  },
  {
   "cell_type": "code",
   "execution_count": 25,
   "metadata": {},
   "outputs": [],
   "source": [
    "summ['Total_income'] = 0"
   ]
  },
  {
   "cell_type": "code",
   "execution_count": 26,
   "metadata": {},
   "outputs": [],
   "source": [
    "summ['Total_km'] = 0"
   ]
  },
  {
   "cell_type": "code",
   "execution_count": 27,
   "metadata": {},
   "outputs": [],
   "source": [
    "monthSumm = {}"
   ]
  },
  {
   "cell_type": "code",
   "execution_count": 28,
   "metadata": {},
   "outputs": [],
   "source": [
    "for m in month:\n",
    "    s = summ.copy()\n",
    "    s['month'] = m\n",
    "    monthSumm[m] = s"
   ]
  },
  {
   "cell_type": "markdown",
   "metadata": {},
   "source": [
    "פונקציית עזר לחישוב משכורת"
   ]
  },
  {
   "cell_type": "code",
   "execution_count": 29,
   "metadata": {},
   "outputs": [],
   "source": [
    "def slr(x):\n",
    "    precent = 1\n",
    "    if x.start_time.hour > 20:\n",
    "        precent = precent + x.night_bonus/100\n",
    "    if x.start_time.weekday() in [4,5]:\n",
    "        precent = precent + x.weekend_bonus/100\n",
    "    if x.km > 200:\n",
    "        return (200 * x.basic_taarif + (x.km-200) * x.extra_milage)*precent\n",
    "    return x.km * x.basic_taarif * precent"
   ]
  },
  {
   "cell_type": "markdown",
   "metadata": {},
   "source": [
    "חישוב בלולאה על כל הקבצים"
   ]
  },
  {
   "cell_type": "code",
   "execution_count": 30,
   "metadata": {},
   "outputs": [],
   "source": [
    "http = 'https://raw.githubusercontent.com/meitalbensinai/AlgoTrainingNoSol/master/Basic/Azrieli%20and%20Sons/data/trips_data/'\n",
    "number = '%202015_478'\n",
    "csv = '.csv'"
   ]
  },
  {
   "cell_type": "code",
   "execution_count": null,
   "metadata": {},
   "outputs": [
    {
     "name": "stdout",
     "output_type": "stream",
     "text": [
      "january\n"
     ]
    },
    {
     "name": "stderr",
     "output_type": "stream",
     "text": [
      "C:\\Users\\user\\Anaconda3\\lib\\site-packages\\ipykernel_launcher.py:19: SettingWithCopyWarning: \n",
      "A value is trying to be set on a copy of a slice from a DataFrame\n",
      "\n",
      "See the caveats in the documentation: http://pandas.pydata.org/pandas-docs/stable/user_guide/indexing.html#returning-a-view-versus-a-copy\n",
      "C:\\Users\\user\\Anaconda3\\lib\\site-packages\\ipykernel_launcher.py:20: SettingWithCopyWarning: \n",
      "A value is trying to be set on a copy of a slice from a DataFrame\n",
      "\n",
      "See the caveats in the documentation: http://pandas.pydata.org/pandas-docs/stable/user_guide/indexing.html#returning-a-view-versus-a-copy\n"
     ]
    }
   ],
   "source": [
    "for m in month:\n",
    "    print(m)\n",
    "    for i in range(1353,1853):\n",
    "        url = http + m + number + (str)(i) + csv\n",
    "        df = pd.read_csv(url)\n",
    "\n",
    "        df.drop('Unnamed: 0', inplace = True, axis=1)\n",
    "\n",
    "        df.start_time = pd.to_datetime(df.start_time)\n",
    "\n",
    "        df = df.merge(gvia)\n",
    "\n",
    "        df['salary'] = df.apply(slr,axis=1)\n",
    "\n",
    "        drvSlr = df.loc[:, ['driver_id', 'salary','km']]\n",
    "        drvSlr.columns = ['id','salary','km']\n",
    "\n",
    "        for i in drvSlr.id:\n",
    "            monthSumm[m].Total_income[i] += drvSlr.salary[drvSlr.id == i].iloc[0]\n",
    "            monthSumm[m].Total_km[i] += drvSlr.km[drvSlr.id == i].iloc[0]"
   ]
  },
  {
   "cell_type": "code",
   "execution_count": null,
   "metadata": {
    "scrolled": false
   },
   "outputs": [],
   "source": [
    "summary = pd.DataFrame()"
   ]
  },
  {
   "cell_type": "code",
   "execution_count": null,
   "metadata": {},
   "outputs": [],
   "source": [
    "for s in monthSumm:\n",
    "    summary = summary.append(monthSumm[s])"
   ]
  },
  {
   "cell_type": "code",
   "execution_count": null,
   "metadata": {},
   "outputs": [],
   "source": [
    "summary"
   ]
  },
  {
   "cell_type": "code",
   "execution_count": null,
   "metadata": {},
   "outputs": [],
   "source": []
  }
 ],
 "metadata": {
  "kernelspec": {
   "display_name": "Python 3",
   "language": "python",
   "name": "python3"
  },
  "language_info": {
   "codemirror_mode": {
    "name": "ipython",
    "version": 3
   },
   "file_extension": ".py",
   "mimetype": "text/x-python",
   "name": "python",
   "nbconvert_exporter": "python",
   "pygments_lexer": "ipython3",
   "version": "3.7.4"
  }
 },
 "nbformat": 4,
 "nbformat_minor": 2
}
